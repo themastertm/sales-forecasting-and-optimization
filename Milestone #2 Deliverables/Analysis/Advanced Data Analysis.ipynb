{
    "cells": [
        {
            "cell_type": "code",
            "execution_count": 1,
            "id": "04046cc0",
            "metadata": {},
            "outputs": [],
            "source": [
                "import numpy as np\n",
                "import pandas as pd\n",
                "import plotly.express as px\n",
                "import matplotlib.pyplot as plt\n",
                "import seaborn as sns\n",
                "sns.set_theme()"
            ]
        },
        {
            "cell_type": "code",
            "execution_count": 4,
            "id": "8529da89",
            "metadata": {},
            "outputs": [
                {
                    "ename": "FileNotFoundError",
                    "evalue": "[Errno 2] No such file or directory: '../walmart_cleaned.csv'",
                    "output_type": "error",
                    "traceback": [
                        "\u001b[1;31m---------------------------------------------------------------------------\u001b[0m",
                        "\u001b[1;31mFileNotFoundError\u001b[0m                         Traceback (most recent call last)",
                        "Cell \u001b[1;32mIn[4], line 2\u001b[0m\n\u001b[0;32m      1\u001b[0m \u001b[38;5;66;03m# Update the file path to the correct location of the CSV file\u001b[39;00m\n\u001b[1;32m----> 2\u001b[0m df \u001b[38;5;241m=\u001b[39m \u001b[43mpd\u001b[49m\u001b[38;5;241;43m.\u001b[39;49m\u001b[43mread_csv\u001b[49m\u001b[43m(\u001b[49m\u001b[38;5;124;43m'\u001b[39;49m\u001b[38;5;124;43m../walmart_cleaned.csv\u001b[39;49m\u001b[38;5;124;43m'\u001b[39;49m\u001b[43m)\u001b[49m  \u001b[38;5;66;03m# Replace with the actual path\u001b[39;00m\n\u001b[0;32m      3\u001b[0m df\u001b[38;5;241m.\u001b[39mhead()\n",
                        "File \u001b[1;32m~\\AppData\\Roaming\\Python\\Python313\\site-packages\\pandas\\io\\parsers\\readers.py:1026\u001b[0m, in \u001b[0;36mread_csv\u001b[1;34m(filepath_or_buffer, sep, delimiter, header, names, index_col, usecols, dtype, engine, converters, true_values, false_values, skipinitialspace, skiprows, skipfooter, nrows, na_values, keep_default_na, na_filter, verbose, skip_blank_lines, parse_dates, infer_datetime_format, keep_date_col, date_parser, date_format, dayfirst, cache_dates, iterator, chunksize, compression, thousands, decimal, lineterminator, quotechar, quoting, doublequote, escapechar, comment, encoding, encoding_errors, dialect, on_bad_lines, delim_whitespace, low_memory, memory_map, float_precision, storage_options, dtype_backend)\u001b[0m\n\u001b[0;32m   1013\u001b[0m kwds_defaults \u001b[38;5;241m=\u001b[39m _refine_defaults_read(\n\u001b[0;32m   1014\u001b[0m     dialect,\n\u001b[0;32m   1015\u001b[0m     delimiter,\n\u001b[1;32m   (...)\u001b[0m\n\u001b[0;32m   1022\u001b[0m     dtype_backend\u001b[38;5;241m=\u001b[39mdtype_backend,\n\u001b[0;32m   1023\u001b[0m )\n\u001b[0;32m   1024\u001b[0m kwds\u001b[38;5;241m.\u001b[39mupdate(kwds_defaults)\n\u001b[1;32m-> 1026\u001b[0m \u001b[38;5;28;01mreturn\u001b[39;00m \u001b[43m_read\u001b[49m\u001b[43m(\u001b[49m\u001b[43mfilepath_or_buffer\u001b[49m\u001b[43m,\u001b[49m\u001b[43m \u001b[49m\u001b[43mkwds\u001b[49m\u001b[43m)\u001b[49m\n",
                        "File \u001b[1;32m~\\AppData\\Roaming\\Python\\Python313\\site-packages\\pandas\\io\\parsers\\readers.py:620\u001b[0m, in \u001b[0;36m_read\u001b[1;34m(filepath_or_buffer, kwds)\u001b[0m\n\u001b[0;32m    617\u001b[0m _validate_names(kwds\u001b[38;5;241m.\u001b[39mget(\u001b[38;5;124m\"\u001b[39m\u001b[38;5;124mnames\u001b[39m\u001b[38;5;124m\"\u001b[39m, \u001b[38;5;28;01mNone\u001b[39;00m))\n\u001b[0;32m    619\u001b[0m \u001b[38;5;66;03m# Create the parser.\u001b[39;00m\n\u001b[1;32m--> 620\u001b[0m parser \u001b[38;5;241m=\u001b[39m \u001b[43mTextFileReader\u001b[49m\u001b[43m(\u001b[49m\u001b[43mfilepath_or_buffer\u001b[49m\u001b[43m,\u001b[49m\u001b[43m \u001b[49m\u001b[38;5;241;43m*\u001b[39;49m\u001b[38;5;241;43m*\u001b[39;49m\u001b[43mkwds\u001b[49m\u001b[43m)\u001b[49m\n\u001b[0;32m    622\u001b[0m \u001b[38;5;28;01mif\u001b[39;00m chunksize \u001b[38;5;129;01mor\u001b[39;00m iterator:\n\u001b[0;32m    623\u001b[0m     \u001b[38;5;28;01mreturn\u001b[39;00m parser\n",
                        "File \u001b[1;32m~\\AppData\\Roaming\\Python\\Python313\\site-packages\\pandas\\io\\parsers\\readers.py:1620\u001b[0m, in \u001b[0;36mTextFileReader.__init__\u001b[1;34m(self, f, engine, **kwds)\u001b[0m\n\u001b[0;32m   1617\u001b[0m     \u001b[38;5;28mself\u001b[39m\u001b[38;5;241m.\u001b[39moptions[\u001b[38;5;124m\"\u001b[39m\u001b[38;5;124mhas_index_names\u001b[39m\u001b[38;5;124m\"\u001b[39m] \u001b[38;5;241m=\u001b[39m kwds[\u001b[38;5;124m\"\u001b[39m\u001b[38;5;124mhas_index_names\u001b[39m\u001b[38;5;124m\"\u001b[39m]\n\u001b[0;32m   1619\u001b[0m \u001b[38;5;28mself\u001b[39m\u001b[38;5;241m.\u001b[39mhandles: IOHandles \u001b[38;5;241m|\u001b[39m \u001b[38;5;28;01mNone\u001b[39;00m \u001b[38;5;241m=\u001b[39m \u001b[38;5;28;01mNone\u001b[39;00m\n\u001b[1;32m-> 1620\u001b[0m \u001b[38;5;28mself\u001b[39m\u001b[38;5;241m.\u001b[39m_engine \u001b[38;5;241m=\u001b[39m \u001b[38;5;28;43mself\u001b[39;49m\u001b[38;5;241;43m.\u001b[39;49m\u001b[43m_make_engine\u001b[49m\u001b[43m(\u001b[49m\u001b[43mf\u001b[49m\u001b[43m,\u001b[49m\u001b[43m \u001b[49m\u001b[38;5;28;43mself\u001b[39;49m\u001b[38;5;241;43m.\u001b[39;49m\u001b[43mengine\u001b[49m\u001b[43m)\u001b[49m\n",
                        "File \u001b[1;32m~\\AppData\\Roaming\\Python\\Python313\\site-packages\\pandas\\io\\parsers\\readers.py:1880\u001b[0m, in \u001b[0;36mTextFileReader._make_engine\u001b[1;34m(self, f, engine)\u001b[0m\n\u001b[0;32m   1878\u001b[0m     \u001b[38;5;28;01mif\u001b[39;00m \u001b[38;5;124m\"\u001b[39m\u001b[38;5;124mb\u001b[39m\u001b[38;5;124m\"\u001b[39m \u001b[38;5;129;01mnot\u001b[39;00m \u001b[38;5;129;01min\u001b[39;00m mode:\n\u001b[0;32m   1879\u001b[0m         mode \u001b[38;5;241m+\u001b[39m\u001b[38;5;241m=\u001b[39m \u001b[38;5;124m\"\u001b[39m\u001b[38;5;124mb\u001b[39m\u001b[38;5;124m\"\u001b[39m\n\u001b[1;32m-> 1880\u001b[0m \u001b[38;5;28mself\u001b[39m\u001b[38;5;241m.\u001b[39mhandles \u001b[38;5;241m=\u001b[39m \u001b[43mget_handle\u001b[49m\u001b[43m(\u001b[49m\n\u001b[0;32m   1881\u001b[0m \u001b[43m    \u001b[49m\u001b[43mf\u001b[49m\u001b[43m,\u001b[49m\n\u001b[0;32m   1882\u001b[0m \u001b[43m    \u001b[49m\u001b[43mmode\u001b[49m\u001b[43m,\u001b[49m\n\u001b[0;32m   1883\u001b[0m \u001b[43m    \u001b[49m\u001b[43mencoding\u001b[49m\u001b[38;5;241;43m=\u001b[39;49m\u001b[38;5;28;43mself\u001b[39;49m\u001b[38;5;241;43m.\u001b[39;49m\u001b[43moptions\u001b[49m\u001b[38;5;241;43m.\u001b[39;49m\u001b[43mget\u001b[49m\u001b[43m(\u001b[49m\u001b[38;5;124;43m\"\u001b[39;49m\u001b[38;5;124;43mencoding\u001b[39;49m\u001b[38;5;124;43m\"\u001b[39;49m\u001b[43m,\u001b[49m\u001b[43m \u001b[49m\u001b[38;5;28;43;01mNone\u001b[39;49;00m\u001b[43m)\u001b[49m\u001b[43m,\u001b[49m\n\u001b[0;32m   1884\u001b[0m \u001b[43m    \u001b[49m\u001b[43mcompression\u001b[49m\u001b[38;5;241;43m=\u001b[39;49m\u001b[38;5;28;43mself\u001b[39;49m\u001b[38;5;241;43m.\u001b[39;49m\u001b[43moptions\u001b[49m\u001b[38;5;241;43m.\u001b[39;49m\u001b[43mget\u001b[49m\u001b[43m(\u001b[49m\u001b[38;5;124;43m\"\u001b[39;49m\u001b[38;5;124;43mcompression\u001b[39;49m\u001b[38;5;124;43m\"\u001b[39;49m\u001b[43m,\u001b[49m\u001b[43m \u001b[49m\u001b[38;5;28;43;01mNone\u001b[39;49;00m\u001b[43m)\u001b[49m\u001b[43m,\u001b[49m\n\u001b[0;32m   1885\u001b[0m \u001b[43m    \u001b[49m\u001b[43mmemory_map\u001b[49m\u001b[38;5;241;43m=\u001b[39;49m\u001b[38;5;28;43mself\u001b[39;49m\u001b[38;5;241;43m.\u001b[39;49m\u001b[43moptions\u001b[49m\u001b[38;5;241;43m.\u001b[39;49m\u001b[43mget\u001b[49m\u001b[43m(\u001b[49m\u001b[38;5;124;43m\"\u001b[39;49m\u001b[38;5;124;43mmemory_map\u001b[39;49m\u001b[38;5;124;43m\"\u001b[39;49m\u001b[43m,\u001b[49m\u001b[43m \u001b[49m\u001b[38;5;28;43;01mFalse\u001b[39;49;00m\u001b[43m)\u001b[49m\u001b[43m,\u001b[49m\n\u001b[0;32m   1886\u001b[0m \u001b[43m    \u001b[49m\u001b[43mis_text\u001b[49m\u001b[38;5;241;43m=\u001b[39;49m\u001b[43mis_text\u001b[49m\u001b[43m,\u001b[49m\n\u001b[0;32m   1887\u001b[0m \u001b[43m    \u001b[49m\u001b[43merrors\u001b[49m\u001b[38;5;241;43m=\u001b[39;49m\u001b[38;5;28;43mself\u001b[39;49m\u001b[38;5;241;43m.\u001b[39;49m\u001b[43moptions\u001b[49m\u001b[38;5;241;43m.\u001b[39;49m\u001b[43mget\u001b[49m\u001b[43m(\u001b[49m\u001b[38;5;124;43m\"\u001b[39;49m\u001b[38;5;124;43mencoding_errors\u001b[39;49m\u001b[38;5;124;43m\"\u001b[39;49m\u001b[43m,\u001b[49m\u001b[43m \u001b[49m\u001b[38;5;124;43m\"\u001b[39;49m\u001b[38;5;124;43mstrict\u001b[39;49m\u001b[38;5;124;43m\"\u001b[39;49m\u001b[43m)\u001b[49m\u001b[43m,\u001b[49m\n\u001b[0;32m   1888\u001b[0m \u001b[43m    \u001b[49m\u001b[43mstorage_options\u001b[49m\u001b[38;5;241;43m=\u001b[39;49m\u001b[38;5;28;43mself\u001b[39;49m\u001b[38;5;241;43m.\u001b[39;49m\u001b[43moptions\u001b[49m\u001b[38;5;241;43m.\u001b[39;49m\u001b[43mget\u001b[49m\u001b[43m(\u001b[49m\u001b[38;5;124;43m\"\u001b[39;49m\u001b[38;5;124;43mstorage_options\u001b[39;49m\u001b[38;5;124;43m\"\u001b[39;49m\u001b[43m,\u001b[49m\u001b[43m \u001b[49m\u001b[38;5;28;43;01mNone\u001b[39;49;00m\u001b[43m)\u001b[49m\u001b[43m,\u001b[49m\n\u001b[0;32m   1889\u001b[0m \u001b[43m\u001b[49m\u001b[43m)\u001b[49m\n\u001b[0;32m   1890\u001b[0m \u001b[38;5;28;01massert\u001b[39;00m \u001b[38;5;28mself\u001b[39m\u001b[38;5;241m.\u001b[39mhandles \u001b[38;5;129;01mis\u001b[39;00m \u001b[38;5;129;01mnot\u001b[39;00m \u001b[38;5;28;01mNone\u001b[39;00m\n\u001b[0;32m   1891\u001b[0m f \u001b[38;5;241m=\u001b[39m \u001b[38;5;28mself\u001b[39m\u001b[38;5;241m.\u001b[39mhandles\u001b[38;5;241m.\u001b[39mhandle\n",
                        "File \u001b[1;32m~\\AppData\\Roaming\\Python\\Python313\\site-packages\\pandas\\io\\common.py:873\u001b[0m, in \u001b[0;36mget_handle\u001b[1;34m(path_or_buf, mode, encoding, compression, memory_map, is_text, errors, storage_options)\u001b[0m\n\u001b[0;32m    868\u001b[0m \u001b[38;5;28;01melif\u001b[39;00m \u001b[38;5;28misinstance\u001b[39m(handle, \u001b[38;5;28mstr\u001b[39m):\n\u001b[0;32m    869\u001b[0m     \u001b[38;5;66;03m# Check whether the filename is to be opened in binary mode.\u001b[39;00m\n\u001b[0;32m    870\u001b[0m     \u001b[38;5;66;03m# Binary mode does not support 'encoding' and 'newline'.\u001b[39;00m\n\u001b[0;32m    871\u001b[0m     \u001b[38;5;28;01mif\u001b[39;00m ioargs\u001b[38;5;241m.\u001b[39mencoding \u001b[38;5;129;01mand\u001b[39;00m \u001b[38;5;124m\"\u001b[39m\u001b[38;5;124mb\u001b[39m\u001b[38;5;124m\"\u001b[39m \u001b[38;5;129;01mnot\u001b[39;00m \u001b[38;5;129;01min\u001b[39;00m ioargs\u001b[38;5;241m.\u001b[39mmode:\n\u001b[0;32m    872\u001b[0m         \u001b[38;5;66;03m# Encoding\u001b[39;00m\n\u001b[1;32m--> 873\u001b[0m         handle \u001b[38;5;241m=\u001b[39m \u001b[38;5;28;43mopen\u001b[39;49m\u001b[43m(\u001b[49m\n\u001b[0;32m    874\u001b[0m \u001b[43m            \u001b[49m\u001b[43mhandle\u001b[49m\u001b[43m,\u001b[49m\n\u001b[0;32m    875\u001b[0m \u001b[43m            \u001b[49m\u001b[43mioargs\u001b[49m\u001b[38;5;241;43m.\u001b[39;49m\u001b[43mmode\u001b[49m\u001b[43m,\u001b[49m\n\u001b[0;32m    876\u001b[0m \u001b[43m            \u001b[49m\u001b[43mencoding\u001b[49m\u001b[38;5;241;43m=\u001b[39;49m\u001b[43mioargs\u001b[49m\u001b[38;5;241;43m.\u001b[39;49m\u001b[43mencoding\u001b[49m\u001b[43m,\u001b[49m\n\u001b[0;32m    877\u001b[0m \u001b[43m            \u001b[49m\u001b[43merrors\u001b[49m\u001b[38;5;241;43m=\u001b[39;49m\u001b[43merrors\u001b[49m\u001b[43m,\u001b[49m\n\u001b[0;32m    878\u001b[0m \u001b[43m            \u001b[49m\u001b[43mnewline\u001b[49m\u001b[38;5;241;43m=\u001b[39;49m\u001b[38;5;124;43m\"\u001b[39;49m\u001b[38;5;124;43m\"\u001b[39;49m\u001b[43m,\u001b[49m\n\u001b[0;32m    879\u001b[0m \u001b[43m        \u001b[49m\u001b[43m)\u001b[49m\n\u001b[0;32m    880\u001b[0m     \u001b[38;5;28;01melse\u001b[39;00m:\n\u001b[0;32m    881\u001b[0m         \u001b[38;5;66;03m# Binary mode\u001b[39;00m\n\u001b[0;32m    882\u001b[0m         handle \u001b[38;5;241m=\u001b[39m \u001b[38;5;28mopen\u001b[39m(handle, ioargs\u001b[38;5;241m.\u001b[39mmode)\n",
                        "\u001b[1;31mFileNotFoundError\u001b[0m: [Errno 2] No such file or directory: '../walmart_cleaned.csv'"
                    ]
                }
            ],
            "source": [
                "df = pd.read_csv('../../walmart_cleaned.csv')\n",
                "df.head()"
            ]
        },
        {
            "cell_type": "code",
            "execution_count": null,
            "id": "1af4ffae",
            "metadata": {},
            "outputs": [],
            "source": [
                "df.info()"
            ]
        },
        {
            "cell_type": "markdown",
            "id": "de9846f3",
            "metadata": {},
            "source": [
                "# Univariate Analysis"
            ]
        },
        {
            "cell_type": "code",
            "execution_count": null,
            "id": "3982911f",
            "metadata": {},
            "outputs": [],
            "source": [
                "num_cols = df.select_dtypes(include = np.number).columns.to_list()\n",
                "num_cols"
            ]
        },
        {
            "cell_type": "code",
            "execution_count": null,
            "id": "7d1ca403",
            "metadata": {},
            "outputs": [],
            "source": [
                "cat_cols = df.select_dtypes(exclude= np.number).columns.to_list()\n",
                "cat_cols"
            ]
        },
        {
            "cell_type": "code",
            "execution_count": null,
            "id": "63c29de8",
            "metadata": {},
            "outputs": [],
            "source": [
                "def univ_num_explore_plotly(data, num_col):\n",
                "    print(f\"Analysis for '{num_col}'\")\n",
                "    print(\"-\" * 40)\n",
                "    \n",
                "    #Summary statistics (optional)\n",
                "    print(data[num_col].describe())\n",
                "\n",
                "    #Histogram with KDE\n",
                "    hist_fig = px.histogram(\n",
                "        data, \n",
                "        x=num_col, \n",
                "        marginal=\"box\",  # Adds boxplot on the side\n",
                "        nbins=50, \n",
                "        title=f\"Distribution and Boxplot of {num_col}\",\n",
                "        opacity=0.7\n",
                "    )\n",
                "    hist_fig.update_layout(bargap=0.1)\n",
                "\n",
                "    hist_fig.show()"
            ]
        },
        {
            "cell_type": "code",
            "execution_count": null,
            "id": "251b44a1",
            "metadata": {},
            "outputs": [],
            "source": [
                "for num_col in num_cols:\n",
                "    univ_num_explore_plotly(df, num_col)"
            ]
        },
        {
            "cell_type": "code",
            "execution_count": null,
            "id": "df862866",
            "metadata": {},
            "outputs": [],
            "source": [
                "def univ_cat_explore_plotly(data, cat_col, top_n=5):\n",
                "    \n",
                "    #Value Counts\n",
                "    print(f\"Value counts for {cat_col}:\")\n",
                "    print(data[cat_col].value_counts())\n",
                "    print(\"\\n\")\n",
                "\n",
                "    unique_vals = data[cat_col].nunique()\n",
                "    top_categories = data[cat_col].value_counts().head(top_n)\n",
                "\n",
                "    if unique_vals <= 4:\n",
                "        # Pie chart\n",
                "        pie_df = data[cat_col].value_counts().reset_index()\n",
                "        pie_df.columns = [cat_col, 'count']\n",
                "        fig = px.pie(pie_df, names=cat_col, values='count', title=f\"Distribution of {cat_col}\")\n",
                "        fig.show()\n",
                "    else:\n",
                "        # Bar chart\n",
                "        bar_df = data[cat_col].value_counts().head(top_n).reset_index()\n",
                "        bar_df.columns = [cat_col, 'count']\n",
                "        fig = px.bar(bar_df, x=cat_col, y='count', title=f\"Top {top_n} Categories in {cat_col}\")\n",
                "        fig.update_layout(xaxis_title=cat_col, yaxis_title=\"Count\")\n",
                "        fig.show()"
            ]
        },
        {
            "cell_type": "code",
            "execution_count": null,
            "id": "7fcc69c2",
            "metadata": {},
            "outputs": [],
            "source": [
                "for cat_col in cat_cols:\n",
                "    univ_cat_explore_plotly(df, cat_col)"
            ]
        },
        {
            "cell_type": "markdown",
            "id": "f5c7a40d",
            "metadata": {},
            "source": [
                "# Bivariate Analysis"
            ]
        },
        {
            "cell_type": "code",
            "execution_count": null,
            "id": "20a27cf5",
            "metadata": {},
            "outputs": [],
            "source": [
                "# Function 1: Numerical vs Numerical\n",
                "def num_vs_num_plotly(df, num_col1, num_col2):\n",
                "    corr = df[num_col1].corr(df[num_col2])\n",
                "    print(f'Linear Correlation between {num_col1} and {num_col2}: {corr:.2f}')\n",
                "    \n",
                "    fig = px.scatter(df, x=num_col1, y=num_col2, trendline=\"ols\",\n",
                "                     title=f\"Scatter Plot with Trendline: {num_col1} vs {num_col2}\",\n",
                "                     labels={num_col1: num_col1, num_col2: num_col2})\n",
                "    fig.show()\n",
                "\n",
                "# Function 2: Numerical vs Categorical\n",
                "def num_vs_cat_plotly(df, num_col, cat_col):\n",
                "    if df[cat_col].nunique() > 10:\n",
                "        print(f\"Warning: {cat_col} has more than 10 unique categories. Plot may get cluttered.\")\n",
                "    \n",
                "    fig = px.box(df, x=cat_col, y=num_col, color=cat_col,\n",
                "                 title=f\"Box Plot of {num_col} across {cat_col}\",\n",
                "                 labels={cat_col: cat_col, num_col: num_col})\n",
                "    fig.update_layout(xaxis_tickangle=45)\n",
                "    fig.show()\n",
                "\n",
                "# Function 3: Numerical vs Binary\n",
                "def num_vs_binary_plotly(df, num_col, binary_col):\n",
                "    mean_val = df[num_col].mean()\n",
                "\n",
                "    mean_df = df.groupby(binary_col)[num_col].mean().reset_index()\n",
                "\n",
                "    fig = px.bar(mean_df, x=binary_col, y=num_col, color=binary_col,\n",
                "                 title=f\"Mean {num_col} by {binary_col}\",\n",
                "                 labels={binary_col: binary_col, num_col: f\"Mean {num_col}\"})\n",
                "\n",
                "    fig.add_hline(y=mean_val, line_dash=\"dash\", line_color=\"red\",\n",
                "                  annotation_text=f\"Overall Mean: {mean_val:.2f}\", annotation_position=\"bottom right\")\n",
                "\n",
                "    fig.show()\n",
                "\n",
                "# Function 4: Categorical vs Binary\n",
                "def cat_vs_binary_plotly(df, cat_col, binary_col):\n",
                "    # Count plot\n",
                "    count_df = df.groupby([cat_col, binary_col]).size().reset_index(name='count')\n",
                "    fig1 = px.bar(count_df, x=cat_col, y='count', color=binary_col, barmode='group',\n",
                "                  title=f\"Count of {cat_col} by {binary_col}\")\n",
                "    fig1.show()\n",
                "\n",
                "    # Mean plot\n",
                "    mean_df = df.groupby(cat_col)[binary_col].mean().reset_index()\n",
                "    fig2 = px.bar(mean_df, x=cat_col, y=binary_col, color=cat_col,\n",
                "                  title=f\"Mean {binary_col} by {cat_col}\")\n",
                "    fig2.show()"
            ]
        },
        {
            "cell_type": "markdown",
            "id": "34fd2117",
            "metadata": {},
            "source": [
                "## Numerical Vs. Numerical"
            ]
        },
        {
            "cell_type": "code",
            "execution_count": null,
            "id": "7602e9d5",
            "metadata": {},
            "outputs": [],
            "source": [
                "num_vs_num_plotly(df,'Size', 'Weekly_Sales' )"
            ]
        },
        {
            "cell_type": "markdown",
            "id": "155c9049",
            "metadata": {},
            "source": [
                "## Categorical Vs. Numerical"
            ]
        },
        {
            "cell_type": "code",
            "execution_count": null,
            "id": "d8a1e443",
            "metadata": {},
            "outputs": [],
            "source": [
                "num_vs_cat_plotly(df, 'Weekly_Sales', 'Type')"
            ]
        },
        {
            "cell_type": "code",
            "execution_count": null,
            "id": "f90a9370",
            "metadata": {},
            "outputs": [],
            "source": [
                "num_vs_cat_plotly(df, 'Weekly_Sales', 'Season')"
            ]
        },
        {
            "cell_type": "code",
            "execution_count": null,
            "id": "06c5f925",
            "metadata": {},
            "outputs": [],
            "source": [
                "# Average sales by store type\n",
                "type_sales = df.groupby(\"Type\", as_index=False)[\"Weekly_Sales\"].mean().sort_values(by=\"Weekly_Sales\", ascending=False)\n",
                "\n",
                "fig2 = px.bar(type_sales, x=\"Type\", y=\"Weekly_Sales\", text=\"Weekly_Sales\",\n",
                "              title=\"Average Weekly Sales by Store Type\",\n",
                "              labels={\"Weekly_Sales\": \"Avg Weekly Sales ($)\", \"Type\": \"Store Type\"})\n",
                "fig2.update_traces(texttemplate='%{text:.2s}', textposition='outside')\n",
                "fig2.show()"
            ]
        },
        {
            "cell_type": "code",
            "execution_count": null,
            "id": "38474387",
            "metadata": {},
            "outputs": [],
            "source": [
                "df[\"Quarter\"] = df[\"Quarter\"].apply(lambda x: f\"Q{x}\")\n",
                "\n",
                "sns.set(style=\"whitegrid\", palette=\"muted\", font_scale=1.2)\n",
                "\n",
                "# Plot average weekly sales by Quarter\n",
                "plt.figure(figsize=(8, 5))\n",
                "Quarter_sales = df.groupby(\"Quarter\")[\"Weekly_Sales\"].mean().reindex([\"Q1\", \"Q2\", \"Q3\", \"Q4\"])\n",
                "sns.barplot(x=Quarter_sales.index, y=Quarter_sales.values)\n",
                "plt.title(\"Average Weekly Sales by Quarter\")\n",
                "plt.ylabel(\"Average Weekly Sales\")\n",
                "plt.xlabel(\"Quarter\")\n",
                "plt.xticks(rotation=0)\n",
                "plt.tight_layout()\n",
                "plt.show()"
            ]
        },
        {
            "cell_type": "code",
            "execution_count": null,
            "id": "d80e3684",
            "metadata": {},
            "outputs": [],
            "source": [
                "# Plot total weekly sales trend by month\n",
                "plt.figure(figsize=(10, 6))\n",
                "month_sales = df.groupby(\"Month\")[\"Weekly_Sales\"].mean()\n",
                "sns.lineplot(x=month_sales.index, y=month_sales.values, marker='o')\n",
                "plt.title(\"Average Weekly Sales by Month\")\n",
                "plt.xlabel(\"Month\")\n",
                "plt.ylabel(\"Average Weekly Sales\")\n",
                "plt.xticks(month_sales.index)\n",
                "plt.tight_layout()\n",
                "plt.show()"
            ]
        },
        {
            "cell_type": "code",
            "execution_count": null,
            "id": "8c4b81a8",
            "metadata": {},
            "outputs": [],
            "source": [
                "# Weekly sales trend around major holiday weeks\n",
                "holiday_sales = df[df[\"IsPromoWeek\"] == True].groupby([\"Year\", \"Month\", \"WeekOfYear\"], as_index=False)[\"Weekly_Sales\"].mean()\n",
                "holiday_sales[\"Year-Week\"] = holiday_sales[\"Year\"].astype(str) + \"-W\" + holiday_sales[\"WeekOfYear\"].astype(str)\n",
                "\n",
                "fig4 = px.line(holiday_sales, x=\"Year-Week\", y=\"Weekly_Sales\", markers=True,\n",
                "               title=\"Weekly Sales During Promo Weeks (Holiday Trend)\",\n",
                "               labels={\"Weekly_Sales\": \"Avg Weekly Sales ($)\"})\n",
                "fig4.update_layout(xaxis_title=\"Year-Week\", yaxis_title=\"Weekly Sales\", xaxis_tickangle=45)\n",
                "fig4.show()"
            ]
        },
        {
            "cell_type": "code",
            "execution_count": null,
            "id": "9c0a02f0",
            "metadata": {},
            "outputs": [],
            "source": [
                "store_sales = df.groupby(\"Store\", as_index=False)[\"Weekly_Sales\"].sum()\n",
                "top_10 = store_sales.sort_values(by=\"Weekly_Sales\", ascending=False).head(10)\n",
                "\n",
                "# Convert Store to string to prevent overlap/compression\n",
                "top_10[\"Store\"] = top_10[\"Store\"].astype(str)\n",
                "\n",
                "fig = px.bar(top_10, x=\"Store\", y=\"Weekly_Sales\",\n",
                "             text=top_10[\"Weekly_Sales\"] / 1e9,\n",
                "             labels={\"Weekly_Sales\": \"Total Sales (in Billions)\", \"Store\": \"Store ID\"},\n",
                "             title=\"Top 10 Stores by Total Sales\")\n",
                "\n",
                "fig.update_traces(texttemplate='%{text:.2f}B', textposition='outside',\n",
                "                  marker_color='steelblue')\n",
                "\n",
                "fig.update_layout(\n",
                "    xaxis=dict(\n",
                "        title=\"Store ID\",\n",
                "        tickmode='array',\n",
                "        tickvals=top_10[\"Store\"],\n",
                "        tickfont=dict(size=16)\n",
                "    ),\n",
                "    yaxis=dict(\n",
                "        title=dict(\n",
                "            text=\"Total Sales (in Billions)\",\n",
                "            font=dict(size=16)\n",
                "        ),\n",
                "        tickformat=\"~s\",\n",
                "        tickfont=dict(size=14)\n",
                "    ),\n",
                "    title=dict(x=0.5, xanchor=\"center\", font=dict(size=22)),\n",
                "    uniformtext_minsize=12,\n",
                "    uniformtext_mode='hide',\n",
                "    plot_bgcolor=\"rgba(255,255,255,1)\",\n",
                "    paper_bgcolor=\"rgba(255,255,255,1)\",\n",
                "    margin=dict(l=40, r=40, t=80, b=60),\n",
                "    font=dict(family=\"Arial\", size=14)\n",
                ")\n",
                "\n",
                "fig.show()"
            ]
        },
        {
            "cell_type": "code",
            "execution_count": null,
            "id": "6de59ab3",
            "metadata": {},
            "outputs": [],
            "source": [
                "dept_avg = df.groupby(\"Dept\")[\"Weekly_Sales\"].mean().reset_index()\n",
                "dept_avg = dept_avg.sort_values(by=\"Weekly_Sales\", ascending=False).head(10)\n",
                "dept_avg[\"Dept\"] = dept_avg[\"Dept\"].astype(str)\n",
                "\n",
                "fig = px.bar(dept_avg, y=\"Dept\", x=\"Weekly_Sales\", orientation='h',\n",
                "             text=dept_avg[\"Weekly_Sales\"],\n",
                "             title=\"Top 10 Departments by Average Weekly Sales\",\n",
                "             labels={\"Weekly_Sales\": \"Average Weekly Sales ($)\", \"Dept\": \"Department\"},\n",
                "             color=\"Weekly_Sales\", color_continuous_scale=\"Viridis\")\n",
                "\n",
                "fig.update_traces(texttemplate='%{text:,.0f}', textposition='outside')\n",
                "fig.update_layout(\n",
                "    xaxis_tickformat=\",\",\n",
                "    yaxis=dict(categoryorder='total ascending'),\n",
                "    xaxis_title=\"Avg Weekly Sales ($)\",\n",
                "    yaxis_title=\"Department\",\n",
                "    plot_bgcolor=\"white\",\n",
                "    title_font=dict(size=20),\n",
                "    font=dict(size=14)\n",
                ")\n",
                "fig.show()"
            ]
        },
        {
            "cell_type": "markdown",
            "id": "0b21df9c",
            "metadata": {},
            "source": [
                "## Numerical Vs. Binary"
            ]
        },
        {
            "cell_type": "code",
            "execution_count": null,
            "id": "07e6f473",
            "metadata": {},
            "outputs": [],
            "source": [
                "num_vs_binary_plotly(df, 'Weekly_Sales', 'IsPromoWeek')"
            ]
        },
        {
            "cell_type": "markdown",
            "id": "94d2f2fe",
            "metadata": {},
            "source": [
                "## Categorical Vs. Binary"
            ]
        },
        {
            "cell_type": "code",
            "execution_count": null,
            "id": "452163fe",
            "metadata": {},
            "outputs": [],
            "source": [
                "cat_vs_binary_plotly(df, 'Season', 'IsPromoWeek')"
            ]
        },
        {
            "cell_type": "code",
            "execution_count": null,
            "id": "84219913",
            "metadata": {},
            "outputs": [],
            "source": [
                "cat_vs_binary_plotly(df, 'Type', 'Holiday_Flag')"
            ]
        },
        {
            "cell_type": "markdown",
            "id": "de8b728f",
            "metadata": {},
            "source": [
                "# Multivariate Analysis"
            ]
        },
        {
            "cell_type": "code",
            "execution_count": null,
            "id": "469909e9",
            "metadata": {},
            "outputs": [],
            "source": [
                "# Calculate average weekly sales for each store type and promo status\n",
                "avg_sales = df.groupby(['Type', 'IsPromoWeek'], as_index=False)['Weekly_Sales'].mean()\n",
                "\n",
                "# Create a grouped bar plot\n",
                "fig = px.bar(\n",
                "    avg_sales,\n",
                "    x='Type',\n",
                "    y='Weekly_Sales',\n",
                "    color='IsPromoWeek',\n",
                "    barmode='group',\n",
                "    title=\"Average Weekly Sales by Store Type with Promo Week Info\",\n",
                "    labels={'Weekly_Sales': 'Avg Weekly Sales', 'Type': 'Store Type', 'IsPromoWeek': 'Promo Week'}\n",
                ")\n",
                "\n",
                "fig.show()"
            ]
        },
        {
            "cell_type": "code",
            "execution_count": null,
            "id": "50f43dd2",
            "metadata": {},
            "outputs": [],
            "source": [
                "sns.lineplot(data=df, x='Month', y='Weekly_Sales', hue='IsPromoWeek')\n",
                "plt.title(\"Monthly Sales Trend - Promo vs Non-Promo Weeks\")\n",
                "plt.show()"
            ]
        },
        {
            "cell_type": "code",
            "execution_count": null,
            "id": "7ef31c86",
            "metadata": {},
            "outputs": [],
            "source": [
                "fig = px.scatter(\n",
                "    df.sample(1000),\n",
                "    x='Temperature',\n",
                "    y='Weekly_Sales',\n",
                "    size='Size',\n",
                "    color='Type',\n",
                "    opacity=0.6,\n",
                "    title='Sales vs Temperature with Store Size & Type',\n",
                "    labels={'Weekly_Sales': 'Weekly Sales', 'Temperature': 'Temperature', 'Size': 'Store Size', 'Type': 'Store Type'}\n",
                ")\n",
                "fig.show()"
            ]
        },
        {
            "cell_type": "code",
            "execution_count": null,
            "id": "b83e3dff",
            "metadata": {},
            "outputs": [],
            "source": [
                "px.scatter(df, x='Size', y='Weekly_Sales', color='Type', trendline=\"ols\")"
            ]
        }
    ],
    "metadata": {
        "kernelspec": {
            "display_name": "base",
            "language": "python",
            "name": "python3"
        },
        "language_info": {
            "codemirror_mode": {
                "name": "ipython",
                "version": 3
            },
            "file_extension": ".py",
            "mimetype": "text/x-python",
            "name": "python",
            "nbconvert_exporter": "python",
            "pygments_lexer": "ipython3",
            "version": "3.12.7"
        }
    },
    "nbformat": 4,
    "nbformat_minor": 5
}
