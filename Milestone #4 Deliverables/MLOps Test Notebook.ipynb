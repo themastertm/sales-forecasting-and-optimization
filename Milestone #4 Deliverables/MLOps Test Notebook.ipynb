{
 "cells": [
  {
   "cell_type": "code",
   "execution_count": 13,
   "id": "2529ee7d",
   "metadata": {},
   "outputs": [
    {
     "name": "stderr",
     "output_type": "stream",
     "text": [
      "c:\\Users\\mahmo\\AppData\\Local\\Programs\\Python\\Python311\\Lib\\site-packages\\mlflow\\types\\utils.py:452: UserWarning: Hint: Inferred schema contains integer column(s). Integer columns in Python cannot represent missing values. If your input data contains missing values at inference time, it will be encoded as floats and will cause a schema enforcement error. The best way to avoid this problem is to infer the model schema based on a realistic data sample (training dataset) that includes missing values. Alternatively, you can declare integer columns as doubles (float64) whenever these columns may have missing values. See `Handling Integers With Missing Values <https://www.mlflow.org/docs/latest/models.html#handling-integers-with-missing-values>`_ for more details.\n",
      "  warnings.warn(\n",
      "c:\\Users\\mahmo\\AppData\\Local\\Programs\\Python\\Python311\\Lib\\site-packages\\xgboost\\sklearn.py:1028: UserWarning: [16:38:22] WARNING: C:\\actions-runner\\_work\\xgboost\\xgboost\\src\\c_api\\c_api.cc:1427: Saving model in the UBJSON format as default.  You can use file extension: `json`, `ubj` or `deprecated` to choose between formats.\n",
      "  self.get_booster().save_model(fname)\n",
      "Registered model 'xgb_model' already exists. Creating a new version of this model...\n",
      "2025/05/11 16:38:31 INFO mlflow.store.model_registry.abstract_store: Waiting up to 300 seconds for model version to finish creation. Model name: xgb_model, version 4\n"
     ]
    },
    {
     "name": "stdout",
     "output_type": "stream",
     "text": [
      "Logged metrics - RMSE: 0.00, MAE: 0.02, R2: 1.00\n",
      "🏃 View run Evaluation of xgb_model at: http://127.0.0.1:5000/#/experiments/793749244390985861/runs/73a377275af04b2a976066b0e8e8cc3d\n",
      "🧪 View experiment at: http://127.0.0.1:5000/#/experiments/793749244390985861\n"
     ]
    },
    {
     "name": "stderr",
     "output_type": "stream",
     "text": [
      "Created version '4' of model 'xgb_model'.\n"
     ]
    }
   ],
   "source": [
    "import mlflow\n",
    "import mlflow.xgboost\n",
    "from mlflow.models.signature import infer_signature\n",
    "from joblib import load\n",
    "import pandas as pd\n",
    "from sklearn.metrics import mean_squared_error, mean_absolute_error, r2_score\n",
    "\n",
    "# Set MLflow tracking URI\n",
    "mlflow.set_tracking_uri(\"http://127.0.0.1:5000\")\n",
    "\n",
    "# Set experiment name\n",
    "EXPERIMENT_NAME = \"Sales Forecasting and Optimization\"\n",
    "mlflow.set_experiment(EXPERIMENT_NAME)\n",
    "\n",
    "def log_model_metrics(model, X_test, y_test, model_name=\"xgb_model\"):\n",
    "    \"\"\"Log model metrics and artifacts to MLflow\"\"\"\n",
    "    with mlflow.start_run(run_name=f\"Evaluation of {model_name}\"):\n",
    "        # Make predictions\n",
    "        predictions = model.predict(X_test)\n",
    "        \n",
    "        # Calculate metrics\n",
    "        rmse = mean_squared_error(y_test, predictions)\n",
    "        mae = mean_absolute_error(y_test, predictions)\n",
    "        r2 = r2_score(y_test, predictions)\n",
    "        \n",
    "        # Log metrics\n",
    "        mlflow.log_metric(\"rmse\", rmse)\n",
    "        mlflow.log_metric(\"mae\", mae)\n",
    "        mlflow.log_metric(\"r2\", r2)\n",
    "        \n",
    "        # Log model parameters\n",
    "        mlflow.log_params(model.get_params())\n",
    "        \n",
    "        # Infer signature\n",
    "        signature = infer_signature(X_test, predictions)\n",
    "        \n",
    "        # Log the model\n",
    "        mlflow.xgboost.log_model(\n",
    "            model,\n",
    "            \"model\",\n",
    "            signature=signature,\n",
    "            registered_model_name=model_name\n",
    "        )\n",
    "        \n",
    "        # Log model info\n",
    "        mlflow.log_text(\"Model evaluation metrics and parameters\", \"model_info.txt\")\n",
    "        \n",
    "        print(f\"Logged metrics - RMSE: {rmse:.2f}, MAE: {mae:.2f}, R2: {r2:.2f}\")\n",
    "\n",
    "# Load the model and data\n",
    "model = load(r'Saved Models\\xgb_model.joblib')\n",
    "scaler = load(r'Saved Models\\scaler.joblib')\n",
    "data = pd.read_csv(r'walmart_cleaned_machine.csv')\n",
    "\n",
    "features = ['Fuel_Price', 'Temperature', 'CPI', 'Unemployment','Size', 'Weekly_Sales']\n",
    "\n",
    "data[features] = scaler.transform(data[features])\n",
    "\n",
    "X = data.drop(columns=['date', 'Weekly_Sales'])\n",
    "y = data['Weekly_Sales']\n",
    "\n",
    "\n",
    "from sklearn.model_selection import train_test_split\n",
    "X_train, X_test, y_train, y_test = train_test_split(X, y, test_size=0.2, random_state=42)\n",
    "\n",
    "# Log model metrics\n",
    "log_model_metrics(model, X_test, y_test)"
   ]
  }
 ],
 "metadata": {
  "kernelspec": {
   "display_name": "Python 3",
   "language": "python",
   "name": "python3"
  },
  "language_info": {
   "codemirror_mode": {
    "name": "ipython",
    "version": 3
   },
   "file_extension": ".py",
   "mimetype": "text/x-python",
   "name": "python",
   "nbconvert_exporter": "python",
   "pygments_lexer": "ipython3",
   "version": "3.11.5"
  }
 },
 "nbformat": 4,
 "nbformat_minor": 5
}
